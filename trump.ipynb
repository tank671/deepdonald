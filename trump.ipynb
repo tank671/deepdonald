{
 "cells": [
  {
   "cell_type": "markdown",
   "metadata": {},
   "source": [
    "# We are going to tweet like Donald Trump."
   ]
  },
  {
   "cell_type": "code",
   "execution_count": 1,
   "metadata": {},
   "outputs": [],
   "source": [
    "%reload_ext autoreload\n",
    "%autoreload 2\n",
    "%matplotlib inline"
   ]
  },
  {
   "cell_type": "code",
   "execution_count": 2,
   "metadata": {},
   "outputs": [],
   "source": [
    "import pandas as pd\n",
    "import numpy as np\n",
    "from pathlib import Path\n",
    "import pkg_resources\n",
    "from string import punctuation\n",
    "import csv\n",
    "import re\n",
    "import gc\n",
    "\n",
    "from fastai import *\n",
    "from fastai.text import *\n",
    "\n",
    "from cleanup import *\n",
    "import tweepy"
   ]
  },
  {
   "cell_type": "code",
   "execution_count": 3,
   "metadata": {},
   "outputs": [
    {
     "data": {
      "text/plain": [
       "'1.0.37'"
      ]
     },
     "execution_count": 3,
     "metadata": {},
     "output_type": "execute_result"
    }
   ],
   "source": [
    "pkg_resources.get_distribution(\"fastai\").version"
   ]
  },
  {
   "cell_type": "code",
   "execution_count": 4,
   "metadata": {},
   "outputs": [
    {
     "name": "stdout",
     "output_type": "stream",
     "text": [
      "all_orig.csv\t     condensed_2011.json  condensed_2017.json  models\r\n",
      "all_tweets.csv\t     condensed_2012.json  condensed_2018.json  __pycache__\r\n",
      "auth.ipynb\t     condensed_2013.json  config\t       todo\r\n",
      "cleanup.py\t     condensed_2014.json  early.csv\t       trump.ipynb\r\n",
      "condensed_2009.json  condensed_2015.json  late.csv\t       trump_lm\r\n",
      "condensed_2010.json  condensed_2016.json  late_orig.csv\r\n"
     ]
    }
   ],
   "source": [
    "PATH = Path('.')\n",
    "!ls {PATH}"
   ]
  },
  {
   "cell_type": "code",
   "execution_count": 83,
   "metadata": {},
   "outputs": [],
   "source": [
    "tweets2009 = pd.read_json('condensed_2009.json')\n",
    "tweets2010 = pd.read_json('condensed_2010.json')\n",
    "tweets2011 = pd.read_json('condensed_2011.json')\n",
    "tweets2012 = pd.read_json('condensed_2012.json')\n",
    "tweets2013 = pd.read_json('condensed_2013.json')\n",
    "tweets2014 = pd.read_json('condensed_2014.json')\n",
    "tweets2015 = pd.read_json('condensed_2015.json')\n",
    "tweets2016 = pd.read_json('condensed_2016.json')\n",
    "tweets2017 = pd.read_json('condensed_2017.json')\n",
    "tweets2018 = pd.read_json('condensed_2018.json')"
   ]
  },
  {
   "cell_type": "code",
   "execution_count": 84,
   "metadata": {},
   "outputs": [],
   "source": [
    "tweetlist = [tweets2009, tweets2010, tweets2011, tweets2012, tweets2013, tweets2014, tweets2015, tweets2016, tweets2017, tweets2018]\n",
    "all_tweets = pd.concat(tweetlist)"
   ]
  },
  {
   "cell_type": "code",
   "execution_count": 88,
   "metadata": {},
   "outputs": [],
   "source": [
    "all_tweets.to_csv('all_tweets.csv')"
   ]
  },
  {
   "cell_type": "code",
   "execution_count": 95,
   "metadata": {},
   "outputs": [],
   "source": [
    "tweets_df = pd.read_csv('all_tweets.csv')"
   ]
  },
  {
   "cell_type": "markdown",
   "metadata": {},
   "source": [
    "# I guess we're about ready to go!"
   ]
  },
  {
   "cell_type": "code",
   "execution_count": 5,
   "metadata": {},
   "outputs": [],
   "source": [
    "bs = 48\n",
    "np.random.seed(42)"
   ]
  },
  {
   "cell_type": "code",
   "execution_count": 6,
   "metadata": {},
   "outputs": [],
   "source": [
    "trump_lm = (TextList.from_csv(PATH, 'all_tweets.csv', cols='text')\n",
    "            .random_split_by_pct(0.1)\n",
    "            .label_for_lm()\n",
    "            .databunch(bs=bs))"
   ]
  },
  {
   "cell_type": "code",
   "execution_count": 98,
   "metadata": {},
   "outputs": [],
   "source": [
    "trump_lm.save('trump_lm')"
   ]
  },
  {
   "cell_type": "code",
   "execution_count": 6,
   "metadata": {},
   "outputs": [],
   "source": [
    "trump_lm = TextLMDataBunch.load(PATH, 'trump_lm', bs=bs)"
   ]
  },
  {
   "cell_type": "code",
   "execution_count": 99,
   "metadata": {},
   "outputs": [
    {
     "data": {
      "text/html": [
       "<table>  <col width='5%'>  <col width='95%'>  <tr>\n",
       "    <th>idx</th>\n",
       "    <th>text</th>\n",
       "  </tr>\n",
       "  <tr>\n",
       "    <th>0</th>\n",
       "    <th>xxbos and here 's another xxrep 4 . http : / / www.trump.com / golf_clubs / xxunk / xxunk xxbos xxmaj our thoughts and prayers are with the victims of the horrible attack in xxmaj france yesterday , and we grieve the nation ’s loss . xxmaj we also condemn the violent actions of the xxunk and anyone who would provide him support . xxmaj we are with you @emmanuelmacron</th>\n",
       "  </tr>\n",
       "  <tr>\n",
       "    <th>1</th>\n",
       "    <th>amazing and accomplished . xxmaj competition is very tough . xxup enjoy xxup the xxup show ! xxbos \" xxunk : @realdonaldtrump is literally the xxunk of amazing ! xxmaj got ta love him ❤ ️ \" xxmaj thank you xxmaj xxunk . xxbos \" xxunk : xxmaj oh , xxmaj donald . xxmaj do n't ever change @realdonaldtrump \" i will try not to ! xxbos a letter to</th>\n",
       "  </tr>\n",
       "  <tr>\n",
       "    <th>2</th>\n",
       "    <th>xxup again ! xxbos xxup rt @greta : xxmaj thank you @realdonaldtrump - this is important to so many of us xxunk xxbos \" xxunk : xxmaj the problem is @mittromney was a weak establishment candidate who could n't even turn out the base . xxmaj weak at best ! \" xxbos xxmaj thank you xxmaj south xxmaj carolina ! # xxmaj trump2016 xxunk xxbos xxmaj must read xxunk article</th>\n",
       "  </tr>\n",
       "  <tr>\n",
       "    <th>3</th>\n",
       "    <th>news xxbos xxmaj today in xxmaj florida , i pledged to stand with the people of xxmaj cuba and xxmaj venezuela in their fight against xxunk cont : xxunk xxbos xxmaj sleazy xxmaj adam xxmaj schiff , the totally biased xxmaj congressman looking into \" xxmaj russia , \" spends all of his time on television pushing the xxmaj dem loss excuse ! xxbos xxmaj bob xxmaj xxunk , successful</th>\n",
       "  </tr>\n",
       "  <tr>\n",
       "    <th>4</th>\n",
       "    <th>@gillibean8514 @brandiglanville @apprenticenbc @nbc @kenyamoore @geraldorivera ca n't wait till apprentice ! ! ! \" xxbos “ xxmaj the most xxunk words in the xxmaj xxunk language are : i 'm from the government and i 'm here to help . ” – xxmaj pres . xxmaj ronald xxmaj reagan xxbos xxmaj what the hell is going on with xxup global xxup warming . xxmaj the planet is freezing ,</th>\n",
       "  </tr>\n",
       "</table>\n"
      ],
      "text/plain": [
       "<IPython.core.display.HTML object>"
      ]
     },
     "metadata": {},
     "output_type": "display_data"
    }
   ],
   "source": [
    "trump_lm.show_batch()"
   ]
  },
  {
   "cell_type": "code",
   "execution_count": 100,
   "metadata": {},
   "outputs": [
    {
     "data": {
      "text/plain": [
       "['xxunk',\n",
       " 'xxpad',\n",
       " 'xxbos',\n",
       " 'xxfld',\n",
       " 'xxmaj',\n",
       " 'xxup',\n",
       " 'xxrep',\n",
       " 'xxwrep',\n",
       " '.',\n",
       " 'the',\n",
       " '\"',\n",
       " '!',\n",
       " ',',\n",
       " 'to',\n",
       " ':']"
      ]
     },
     "execution_count": 100,
     "metadata": {},
     "output_type": "execute_result"
    }
   ],
   "source": [
    "trump_lm.vocab.itos[:15]"
   ]
  },
  {
   "cell_type": "code",
   "execution_count": 101,
   "metadata": {},
   "outputs": [
    {
     "data": {
      "text/plain": [
       "['a',\n",
       " 'and',\n",
       " 'is',\n",
       " 'of',\n",
       " 'you',\n",
       " 'in',\n",
       " 'i',\n",
       " '@realdonaldtrump',\n",
       " 'for',\n",
       " '#',\n",
       " '&',\n",
       " 'on',\n",
       " 'be',\n",
       " 'it',\n",
       " 'great',\n",
       " 'will',\n",
       " 'trump',\n",
       " '-',\n",
       " 'that',\n",
       " 'are',\n",
       " 'with',\n",
       " 'we',\n",
       " \"'s\",\n",
       " 'have',\n",
       " 'he',\n",
       " 'at',\n",
       " 'our',\n",
       " '?',\n",
       " 'my',\n",
       " 'do',\n",
       " 'not']"
      ]
     },
     "execution_count": 101,
     "metadata": {},
     "output_type": "execute_result"
    }
   ],
   "source": [
    "trump_lm.vocab.itos[15:46]"
   ]
  },
  {
   "cell_type": "code",
   "execution_count": 7,
   "metadata": {},
   "outputs": [],
   "source": [
    "learn = language_model_learner(trump_lm, pretrained_model=URLs.WT103_1, drop_mult=0.3)"
   ]
  },
  {
   "cell_type": "code",
   "execution_count": 103,
   "metadata": {},
   "outputs": [
    {
     "name": "stdout",
     "output_type": "stream",
     "text": [
      "LR Finder is complete, type {learner_name}.recorder.plot() to see the graph.\n"
     ]
    }
   ],
   "source": [
    "learn.lr_find()"
   ]
  },
  {
   "cell_type": "code",
   "execution_count": 105,
   "metadata": {},
   "outputs": [
    {
     "data": {
      "image/png": "[encoded data removed]",
      "text/plain": [
       "<Figure size 432x288 with 1 Axes>"
      ]
     },
     "metadata": {
      "needs_background": "light"
     },
     "output_type": "display_data"
    }
   ],
   "source": [
    "learn.recorder.plot(skip_end=10)"
   ]
  },
  {
   "cell_type": "code",
   "execution_count": 108,
   "metadata": {},
   "outputs": [
    {
     "data": {
      "text/html": [
       "Total time: 04:06 <p><table style='width:300px; margin-bottom:10px'>\n",
       "  <tr>\n",
       "    <th>epoch</th>\n",
       "    <th>train_loss</th>\n",
       "    <th>valid_loss</th>\n",
       "    <th>accuracy</th>\n",
       "  </tr>\n",
       "  <tr>\n",
       "    <th>1</th>\n",
       "    <th>4.028556</th>\n",
       "    <th>4.128389</th>\n",
       "    <th>0.274065</th>\n",
       "  </tr>\n",
       "  <tr>\n",
       "    <th>2</th>\n",
       "    <th>4.509371</th>\n",
       "    <th>4.298726</th>\n",
       "    <th>0.260453</th>\n",
       "  </tr>\n",
       "  <tr>\n",
       "    <th>3</th>\n",
       "    <th>4.336484</th>\n",
       "    <th>4.138552</th>\n",
       "    <th>0.275697</th>\n",
       "  </tr>\n",
       "  <tr>\n",
       "    <th>4</th>\n",
       "    <th>4.021148</th>\n",
       "    <th>3.938454</th>\n",
       "    <th>0.294253</th>\n",
       "  </tr>\n",
       "  <tr>\n",
       "    <th>5</th>\n",
       "    <th>3.802360</th>\n",
       "    <th>3.878778</th>\n",
       "    <th>0.298508</th>\n",
       "  </tr>\n",
       "</table>\n"
      ],
      "text/plain": [
       "<IPython.core.display.HTML object>"
      ]
     },
     "metadata": {},
     "output_type": "display_data"
    }
   ],
   "source": [
    "learn.fit_one_cycle(5, 1e-1, moms=(0.8, 0.7))"
   ]
  },
  {
   "cell_type": "code",
   "execution_count": 107,
   "metadata": {},
   "outputs": [],
   "source": [
    "learn.save('trump1') #3.715136 \t3.839334 \t0.303426 after 7"
   ]
  },
  {
   "cell_type": "code",
   "execution_count": 109,
   "metadata": {},
   "outputs": [
    {
     "data": {
      "text/plain": [
       "LanguageLearner(data=TextLMDataBunch;\n",
       "\n",
       "Train: LabelList\n",
       "y: LMLabel (32677 items)\n",
       "[Category 0, Category 0, Category 0, Category 0, Category 0]...\n",
       "Path: .\n",
       "x: LMTextList (32677 items)\n",
       "[Text xxbos xxmaj from xxmaj donald xxmaj trump : xxmaj wishing everyone a wonderful holiday & a happy , healthy , prosperous xxmaj new xxmaj year . xxmaj let ’s think like champions in 2010 !, Text xxbos xxmaj trump xxmaj international xxmaj tower in xxmaj chicago ranked 6th tallest building in world by xxmaj council on xxmaj tall xxmaj buildings & xxmaj urban xxmaj xxunk http : / / bit.ly / xxunk, Text xxbos xxmaj wishing you and yours a very xxmaj happy and xxmaj xxunk xxmaj thanksgiving !, Text xxbos xxmaj donald xxmaj trump xxmaj partners with xxup xxunk on xxmaj new xxmaj reality xxmaj series xxmaj entitled , xxmaj omarosa 's xxmaj ultimate xxmaj merger : http : / / tinyurl.com / xxunk, Text xxbos xxunk xxmaj donald xxmaj trump : \" xxmaj ivanka and xxmaj jared ’s wedding was spectacular , and they make a beautiful couple . i ’m a very proud father . \"]...\n",
       "Path: .;\n",
       "\n",
       "Valid: LabelList\n",
       "y: LMLabel (3630 items)\n",
       "[Category 0, Category 0, Category 0, Category 0, Category 0]...\n",
       "Path: .\n",
       "x: LMTextList (3630 items)\n",
       "[Text xxbos xxmaj obama ’s policies have led to food stamp rolls growing xxup xxunk faster than job production xxunk xxmaj we ca n't afford 4 more years ., Text xxbos \" @cahlrstorrie : @realdonaldtrump @mileswynn3 @jennifer75ar a billionaire president . xxmaj now that 's something i 'd like to see ! # trump2016 \", Text xxbos “ xxmaj circumstances are beyond human control , but our conduct is in our own power . ” -- xxmaj benjamin xxmaj xxunk, Text xxbos \" xxunk : @realdonaldtrump @kmcs1957 xxmaj do you have someone you would trust to run your businesses while you were president ? xxmaj my kids !, Text xxbos \" xxmaj to become a champion , fight one more round . \" -- xxmaj james xxup j. xxmaj xxunk , long ago xxmaj xxunk xxmaj champion]...\n",
       "Path: .;\n",
       "\n",
       "Test: None, model=SequentialRNN(\n",
       "  (0): RNNCore(\n",
       "    (encoder): Embedding(10344, 400, padding_idx=1)\n",
       "    (encoder_dp): EmbeddingDropout(\n",
       "      (emb): Embedding(10344, 400, padding_idx=1)\n",
       "    )\n",
       "    (rnns): ModuleList(\n",
       "      (0): WeightDropout(\n",
       "        (module): LSTM(400, 1150)\n",
       "      )\n",
       "      (1): WeightDropout(\n",
       "        (module): LSTM(1150, 1150)\n",
       "      )\n",
       "      (2): WeightDropout(\n",
       "        (module): LSTM(1150, 400)\n",
       "      )\n",
       "    )\n",
       "    (input_dp): RNNDropout()\n",
       "    (hidden_dps): ModuleList(\n",
       "      (0): RNNDropout()\n",
       "      (1): RNNDropout()\n",
       "      (2): RNNDropout()\n",
       "    )\n",
       "  )\n",
       "  (1): LinearDecoder(\n",
       "    (decoder): Linear(in_features=400, out_features=10344, bias=True)\n",
       "    (output_dp): RNNDropout()\n",
       "  )\n",
       "), opt_func=functools.partial(<class 'torch.optim.adam.Adam'>, betas=(0.9, 0.99)), loss_func=<fastai.layers.FlattenedLoss object at 0x7f94132d0438>, metrics=[<function accuracy at 0x7f944aee01e0>], true_wd=True, bn_wd=True, wd=0.01, train_bn=True, path=PosixPath('.'), model_dir='models', callback_fns=[<class 'fastai.basic_train.Recorder'>], callbacks=[RNNTrainer(learn=LanguageLearner(data=TextLMDataBunch;\n",
       "\n",
       "Train: LabelList\n",
       "y: LMLabel (32677 items)\n",
       "[Category 0, Category 0, Category 0, Category 0, Category 0]...\n",
       "Path: .\n",
       "x: LMTextList (32677 items)\n",
       "[Text xxbos xxmaj from xxmaj donald xxmaj trump : xxmaj wishing everyone a wonderful holiday & a happy , healthy , prosperous xxmaj new xxmaj year . xxmaj let ’s think like champions in 2010 !, Text xxbos xxmaj trump xxmaj international xxmaj tower in xxmaj chicago ranked 6th tallest building in world by xxmaj council on xxmaj tall xxmaj buildings & xxmaj urban xxmaj xxunk http : / / bit.ly / xxunk, Text xxbos xxmaj wishing you and yours a very xxmaj happy and xxmaj xxunk xxmaj thanksgiving !, Text xxbos xxmaj donald xxmaj trump xxmaj partners with xxup xxunk on xxmaj new xxmaj reality xxmaj series xxmaj entitled , xxmaj omarosa 's xxmaj ultimate xxmaj merger : http : / / tinyurl.com / xxunk, Text xxbos xxunk xxmaj donald xxmaj trump : \" xxmaj ivanka and xxmaj jared ’s wedding was spectacular , and they make a beautiful couple . i ’m a very proud father . \"]...\n",
       "Path: .;\n",
       "\n",
       "Valid: LabelList\n",
       "y: LMLabel (3630 items)\n",
       "[Category 0, Category 0, Category 0, Category 0, Category 0]...\n",
       "Path: .\n",
       "x: LMTextList (3630 items)\n",
       "[Text xxbos xxmaj obama ’s policies have led to food stamp rolls growing xxup xxunk faster than job production xxunk xxmaj we ca n't afford 4 more years ., Text xxbos \" @cahlrstorrie : @realdonaldtrump @mileswynn3 @jennifer75ar a billionaire president . xxmaj now that 's something i 'd like to see ! # trump2016 \", Text xxbos “ xxmaj circumstances are beyond human control , but our conduct is in our own power . ” -- xxmaj benjamin xxmaj xxunk, Text xxbos \" xxunk : @realdonaldtrump @kmcs1957 xxmaj do you have someone you would trust to run your businesses while you were president ? xxmaj my kids !, Text xxbos \" xxmaj to become a champion , fight one more round . \" -- xxmaj james xxup j. xxmaj xxunk , long ago xxmaj xxunk xxmaj champion]...\n",
       "Path: .;\n",
       "\n",
       "Test: None, model=SequentialRNN(\n",
       "  (0): RNNCore(\n",
       "    (encoder): Embedding(10344, 400, padding_idx=1)\n",
       "    (encoder_dp): EmbeddingDropout(\n",
       "      (emb): Embedding(10344, 400, padding_idx=1)\n",
       "    )\n",
       "    (rnns): ModuleList(\n",
       "      (0): WeightDropout(\n",
       "        (module): LSTM(400, 1150)\n",
       "      )\n",
       "      (1): WeightDropout(\n",
       "        (module): LSTM(1150, 1150)\n",
       "      )\n",
       "      (2): WeightDropout(\n",
       "        (module): LSTM(1150, 400)\n",
       "      )\n",
       "    )\n",
       "    (input_dp): RNNDropout()\n",
       "    (hidden_dps): ModuleList(\n",
       "      (0): RNNDropout()\n",
       "      (1): RNNDropout()\n",
       "      (2): RNNDropout()\n",
       "    )\n",
       "  )\n",
       "  (1): LinearDecoder(\n",
       "    (decoder): Linear(in_features=400, out_features=10344, bias=True)\n",
       "    (output_dp): RNNDropout()\n",
       "  )\n",
       "), opt_func=functools.partial(<class 'torch.optim.adam.Adam'>, betas=(0.9, 0.99)), loss_func=<fastai.layers.FlattenedLoss object at 0x7f94132d0438>, metrics=[<function accuracy at 0x7f944aee01e0>], true_wd=True, bn_wd=True, wd=0.01, train_bn=True, path=PosixPath('.'), model_dir='models', callback_fns=[<class 'fastai.basic_train.Recorder'>], callbacks=[...], layer_groups=[Sequential(\n",
       "  (0): WeightDropout(\n",
       "    (module): LSTM(400, 1150)\n",
       "  )\n",
       "  (1): RNNDropout()\n",
       "), Sequential(\n",
       "  (0): WeightDropout(\n",
       "    (module): LSTM(1150, 1150)\n",
       "  )\n",
       "  (1): RNNDropout()\n",
       "), Sequential(\n",
       "  (0): WeightDropout(\n",
       "    (module): LSTM(1150, 400)\n",
       "  )\n",
       "  (1): RNNDropout()\n",
       "), Sequential(\n",
       "  (0): Embedding(10344, 400, padding_idx=1)\n",
       "  (1): EmbeddingDropout(\n",
       "    (emb): Embedding(10344, 400, padding_idx=1)\n",
       "  )\n",
       "  (2): LinearDecoder(\n",
       "    (decoder): Linear(in_features=400, out_features=10344, bias=True)\n",
       "    (output_dp): RNNDropout()\n",
       "  )\n",
       ")]), bptt=70, alpha=2.0, beta=1.0, adjust=False)], layer_groups=[Sequential(\n",
       "  (0): WeightDropout(\n",
       "    (module): LSTM(400, 1150)\n",
       "  )\n",
       "  (1): RNNDropout()\n",
       "), Sequential(\n",
       "  (0): WeightDropout(\n",
       "    (module): LSTM(1150, 1150)\n",
       "  )\n",
       "  (1): RNNDropout()\n",
       "), Sequential(\n",
       "  (0): WeightDropout(\n",
       "    (module): LSTM(1150, 400)\n",
       "  )\n",
       "  (1): RNNDropout()\n",
       "), Sequential(\n",
       "  (0): Embedding(10344, 400, padding_idx=1)\n",
       "  (1): EmbeddingDropout(\n",
       "    (emb): Embedding(10344, 400, padding_idx=1)\n",
       "  )\n",
       "  (2): LinearDecoder(\n",
       "    (decoder): Linear(in_features=400, out_features=10344, bias=True)\n",
       "    (output_dp): RNNDropout()\n",
       "  )\n",
       ")])"
      ]
     },
     "execution_count": 109,
     "metadata": {},
     "output_type": "execute_result"
    }
   ],
   "source": [
    "learn.load('trump1')"
   ]
  },
  {
   "cell_type": "code",
   "execution_count": 110,
   "metadata": {},
   "outputs": [],
   "source": [
    "learn.freeze_to(-1)"
   ]
  },
  {
   "cell_type": "code",
   "execution_count": 117,
   "metadata": {},
   "outputs": [
    {
     "data": {
      "text/html": [
       "Total time: 08:09 <p><table style='width:300px; margin-bottom:10px'>\n",
       "  <tr>\n",
       "    <th>epoch</th>\n",
       "    <th>train_loss</th>\n",
       "    <th>valid_loss</th>\n",
       "    <th>accuracy</th>\n",
       "  </tr>\n",
       "  <tr>\n",
       "    <th>1</th>\n",
       "    <th>3.263876</th>\n",
       "    <th>3.691080</th>\n",
       "    <th>0.321687</th>\n",
       "  </tr>\n",
       "  <tr>\n",
       "    <th>2</th>\n",
       "    <th>3.514779</th>\n",
       "    <th>3.803223</th>\n",
       "    <th>0.306504</th>\n",
       "  </tr>\n",
       "  <tr>\n",
       "    <th>3</th>\n",
       "    <th>3.782820</th>\n",
       "    <th>3.901663</th>\n",
       "    <th>0.297286</th>\n",
       "  </tr>\n",
       "  <tr>\n",
       "    <th>4</th>\n",
       "    <th>3.814824</th>\n",
       "    <th>3.905827</th>\n",
       "    <th>0.296930</th>\n",
       "  </tr>\n",
       "  <tr>\n",
       "    <th>5</th>\n",
       "    <th>3.768949</th>\n",
       "    <th>3.858483</th>\n",
       "    <th>0.303435</th>\n",
       "  </tr>\n",
       "  <tr>\n",
       "    <th>6</th>\n",
       "    <th>3.684427</th>\n",
       "    <th>3.817730</th>\n",
       "    <th>0.306278</th>\n",
       "  </tr>\n",
       "  <tr>\n",
       "    <th>7</th>\n",
       "    <th>3.529825</th>\n",
       "    <th>3.747123</th>\n",
       "    <th>0.314355</th>\n",
       "  </tr>\n",
       "  <tr>\n",
       "    <th>8</th>\n",
       "    <th>3.379947</th>\n",
       "    <th>3.693683</th>\n",
       "    <th>0.320035</th>\n",
       "  </tr>\n",
       "  <tr>\n",
       "    <th>9</th>\n",
       "    <th>3.236048</th>\n",
       "    <th>3.669329</th>\n",
       "    <th>0.323513</th>\n",
       "  </tr>\n",
       "  <tr>\n",
       "    <th>10</th>\n",
       "    <th>3.172949</th>\n",
       "    <th>3.665438</th>\n",
       "    <th>0.323919</th>\n",
       "  </tr>\n",
       "</table>\n"
      ],
      "text/plain": [
       "<IPython.core.display.HTML object>"
      ]
     },
     "metadata": {},
     "output_type": "display_data"
    }
   ],
   "source": [
    "learn.fit_one_cycle(10, 5e-2, moms=(0.8, 0.7))"
   ]
  },
  {
   "cell_type": "code",
   "execution_count": 118,
   "metadata": {},
   "outputs": [],
   "source": [
    "learn.save('trump1_1') #3.172949 \t3.665438 \t0.323919 after 15, 5, 10, 10"
   ]
  },
  {
   "cell_type": "code",
   "execution_count": 119,
   "metadata": {},
   "outputs": [],
   "source": [
    "learn.freeze_to(-2)"
   ]
  },
  {
   "cell_type": "code",
   "execution_count": 124,
   "metadata": {},
   "outputs": [
    {
     "data": {
      "text/html": [
       "Total time: 08:23 <p><table style='width:300px; margin-bottom:10px'>\n",
       "  <tr>\n",
       "    <th>epoch</th>\n",
       "    <th>train_loss</th>\n",
       "    <th>valid_loss</th>\n",
       "    <th>accuracy</th>\n",
       "  </tr>\n",
       "  <tr>\n",
       "    <th>1</th>\n",
       "    <th>2.871841</th>\n",
       "    <th>3.512023</th>\n",
       "    <th>0.348130</th>\n",
       "  </tr>\n",
       "  <tr>\n",
       "    <th>2</th>\n",
       "    <th>3.152897</th>\n",
       "    <th>3.581222</th>\n",
       "    <th>0.338656</th>\n",
       "  </tr>\n",
       "  <tr>\n",
       "    <th>3</th>\n",
       "    <th>3.447248</th>\n",
       "    <th>3.667427</th>\n",
       "    <th>0.328127</th>\n",
       "  </tr>\n",
       "  <tr>\n",
       "    <th>4</th>\n",
       "    <th>3.502734</th>\n",
       "    <th>3.674323</th>\n",
       "    <th>0.325977</th>\n",
       "  </tr>\n",
       "  <tr>\n",
       "    <th>5</th>\n",
       "    <th>3.447399</th>\n",
       "    <th>3.633647</th>\n",
       "    <th>0.332666</th>\n",
       "  </tr>\n",
       "  <tr>\n",
       "    <th>6</th>\n",
       "    <th>3.340912</th>\n",
       "    <th>3.588745</th>\n",
       "    <th>0.338113</th>\n",
       "  </tr>\n",
       "  <tr>\n",
       "    <th>7</th>\n",
       "    <th>3.177438</th>\n",
       "    <th>3.537698</th>\n",
       "    <th>0.344850</th>\n",
       "  </tr>\n",
       "  <tr>\n",
       "    <th>8</th>\n",
       "    <th>2.993360</th>\n",
       "    <th>3.501362</th>\n",
       "    <th>0.351798</th>\n",
       "  </tr>\n",
       "  <tr>\n",
       "    <th>9</th>\n",
       "    <th>2.842362</th>\n",
       "    <th>3.499692</th>\n",
       "    <th>0.354593</th>\n",
       "  </tr>\n",
       "  <tr>\n",
       "    <th>10</th>\n",
       "    <th>2.748612</th>\n",
       "    <th>3.507438</th>\n",
       "    <th>0.354645</th>\n",
       "  </tr>\n",
       "</table>\n"
      ],
      "text/plain": [
       "<IPython.core.display.HTML object>"
      ]
     },
     "metadata": {},
     "output_type": "display_data"
    }
   ],
   "source": [
    "learn.fit_one_cycle(10, 5e-2, moms=(0.8, 0.7))"
   ]
  },
  {
   "cell_type": "code",
   "execution_count": 125,
   "metadata": {},
   "outputs": [],
   "source": [
    "learn.save('trump_2')# 2.748612 \t3.507438 \t0.354645 after 10, 10, 10"
   ]
  },
  {
   "cell_type": "code",
   "execution_count": 126,
   "metadata": {},
   "outputs": [],
   "source": [
    "learn.unfreeze()"
   ]
  },
  {
   "cell_type": "code",
   "execution_count": 127,
   "metadata": {},
   "outputs": [
    {
     "data": {
      "text/html": [
       "Total time: 15:38 <p><table style='width:300px; margin-bottom:10px'>\n",
       "  <tr>\n",
       "    <th>epoch</th>\n",
       "    <th>train_loss</th>\n",
       "    <th>valid_loss</th>\n",
       "    <th>accuracy</th>\n",
       "  </tr>\n",
       "  <tr>\n",
       "    <th>1</th>\n",
       "    <th>2.728987</th>\n",
       "    <th>3.509395</th>\n",
       "    <th>0.354910</th>\n",
       "  </tr>\n",
       "  <tr>\n",
       "    <th>2</th>\n",
       "    <th>2.727344</th>\n",
       "    <th>3.502838</th>\n",
       "    <th>0.355062</th>\n",
       "  </tr>\n",
       "  <tr>\n",
       "    <th>3</th>\n",
       "    <th>2.734565</th>\n",
       "    <th>3.502741</th>\n",
       "    <th>0.354572</th>\n",
       "  </tr>\n",
       "  <tr>\n",
       "    <th>4</th>\n",
       "    <th>2.719242</th>\n",
       "    <th>3.503315</th>\n",
       "    <th>0.355892</th>\n",
       "  </tr>\n",
       "  <tr>\n",
       "    <th>5</th>\n",
       "    <th>2.688015</th>\n",
       "    <th>3.503466</th>\n",
       "    <th>0.356102</th>\n",
       "  </tr>\n",
       "  <tr>\n",
       "    <th>6</th>\n",
       "    <th>2.629315</th>\n",
       "    <th>3.506119</th>\n",
       "    <th>0.355544</th>\n",
       "  </tr>\n",
       "  <tr>\n",
       "    <th>7</th>\n",
       "    <th>2.577199</th>\n",
       "    <th>3.516062</th>\n",
       "    <th>0.356700</th>\n",
       "  </tr>\n",
       "  <tr>\n",
       "    <th>8</th>\n",
       "    <th>2.511580</th>\n",
       "    <th>3.516236</th>\n",
       "    <th>0.357195</th>\n",
       "  </tr>\n",
       "  <tr>\n",
       "    <th>9</th>\n",
       "    <th>2.462497</th>\n",
       "    <th>3.526510</th>\n",
       "    <th>0.357597</th>\n",
       "  </tr>\n",
       "  <tr>\n",
       "    <th>10</th>\n",
       "    <th>2.412727</th>\n",
       "    <th>3.534224</th>\n",
       "    <th>0.357898</th>\n",
       "  </tr>\n",
       "  <tr>\n",
       "    <th>11</th>\n",
       "    <th>2.362275</th>\n",
       "    <th>3.548481</th>\n",
       "    <th>0.357663</th>\n",
       "  </tr>\n",
       "  <tr>\n",
       "    <th>12</th>\n",
       "    <th>2.314796</th>\n",
       "    <th>3.550155</th>\n",
       "    <th>0.358734</th>\n",
       "  </tr>\n",
       "  <tr>\n",
       "    <th>13</th>\n",
       "    <th>2.278002</th>\n",
       "    <th>3.560162</th>\n",
       "    <th>0.358039</th>\n",
       "  </tr>\n",
       "  <tr>\n",
       "    <th>14</th>\n",
       "    <th>2.260373</th>\n",
       "    <th>3.560674</th>\n",
       "    <th>0.357900</th>\n",
       "  </tr>\n",
       "  <tr>\n",
       "    <th>15</th>\n",
       "    <th>2.248759</th>\n",
       "    <th>3.561442</th>\n",
       "    <th>0.358221</th>\n",
       "  </tr>\n",
       "</table>\n"
      ],
      "text/plain": [
       "<IPython.core.display.HTML object>"
      ]
     },
     "metadata": {},
     "output_type": "display_data"
    }
   ],
   "source": [
    "learn.fit_one_cycle(15, slice(1e-2/(2.6**4), 1e-2), moms=(0.8, 0.7))"
   ]
  },
  {
   "cell_type": "code",
   "execution_count": 128,
   "metadata": {},
   "outputs": [],
   "source": [
    "learn.save('trump_all') #2.248759 \t3.561442 \t0.358221 after one set of 10"
   ]
  },
  {
   "cell_type": "code",
   "execution_count": 129,
   "metadata": {},
   "outputs": [],
   "source": [
    "learn.freeze()"
   ]
  },
  {
   "cell_type": "code",
   "execution_count": 22,
   "metadata": {},
   "outputs": [
    {
     "data": {
      "text/plain": [
       "LanguageLearner(data=TextLMDataBunch;\n",
       "\n",
       "Train: LabelList\n",
       "y: LMLabel (32677 items)\n",
       "[Category 0, Category 0, Category 0, Category 0, Category 0]...\n",
       "Path: .\n",
       "x: LMTextList (32677 items)\n",
       "[Text xxbos xxmaj from xxmaj donald xxmaj trump : xxmaj wishing everyone a wonderful holiday & a happy , healthy , prosperous xxmaj new xxmaj year . xxmaj let ’s think like champions in 2010 !, Text xxbos xxmaj trump xxmaj international xxmaj tower in xxmaj chicago ranked 6th tallest building in world by xxmaj council on xxmaj tall xxmaj buildings & xxmaj urban xxmaj xxunk http : / / bit.ly / xxunk, Text xxbos xxmaj wishing you and yours a very xxmaj happy and xxmaj xxunk xxmaj thanksgiving !, Text xxbos xxmaj donald xxmaj trump xxmaj partners with xxup xxunk on xxmaj new xxmaj reality xxmaj series xxmaj entitled , xxmaj omarosa 's xxmaj ultimate xxmaj merger : http : / / tinyurl.com / xxunk, Text xxbos xxunk xxmaj donald xxmaj trump : \" xxmaj ivanka and xxmaj jared ’s wedding was spectacular , and they make a beautiful couple . i ’m a very proud father . \"]...\n",
       "Path: .;\n",
       "\n",
       "Valid: LabelList\n",
       "y: LMLabel (3630 items)\n",
       "[Category 0, Category 0, Category 0, Category 0, Category 0]...\n",
       "Path: .\n",
       "x: LMTextList (3630 items)\n",
       "[Text xxbos xxmaj obama ’s policies have led to food stamp rolls growing xxup xxunk faster than job production xxunk xxmaj we ca n't afford 4 more years ., Text xxbos \" @cahlrstorrie : @realdonaldtrump @mileswynn3 @jennifer75ar a billionaire president . xxmaj now that 's something i 'd like to see ! # trump2016 \", Text xxbos “ xxmaj circumstances are beyond human control , but our conduct is in our own power . ” -- xxmaj benjamin xxmaj xxunk, Text xxbos \" xxunk : @realdonaldtrump @kmcs1957 xxmaj do you have someone you would trust to run your businesses while you were president ? xxmaj my kids !, Text xxbos \" xxmaj to become a champion , fight one more round . \" -- xxmaj james xxup j. xxmaj xxunk , long ago xxmaj xxunk xxmaj champion]...\n",
       "Path: .;\n",
       "\n",
       "Test: None, model=SequentialRNN(\n",
       "  (0): RNNCore(\n",
       "    (encoder): Embedding(10344, 400, padding_idx=1)\n",
       "    (encoder_dp): EmbeddingDropout(\n",
       "      (emb): Embedding(10344, 400, padding_idx=1)\n",
       "    )\n",
       "    (rnns): ModuleList(\n",
       "      (0): WeightDropout(\n",
       "        (module): LSTM(400, 1150)\n",
       "      )\n",
       "      (1): WeightDropout(\n",
       "        (module): LSTM(1150, 1150)\n",
       "      )\n",
       "      (2): WeightDropout(\n",
       "        (module): LSTM(1150, 400)\n",
       "      )\n",
       "    )\n",
       "    (input_dp): RNNDropout()\n",
       "    (hidden_dps): ModuleList(\n",
       "      (0): RNNDropout()\n",
       "      (1): RNNDropout()\n",
       "      (2): RNNDropout()\n",
       "    )\n",
       "  )\n",
       "  (1): LinearDecoder(\n",
       "    (decoder): Linear(in_features=400, out_features=10344, bias=True)\n",
       "    (output_dp): RNNDropout()\n",
       "  )\n",
       "), opt_func=functools.partial(<class 'torch.optim.adam.Adam'>, betas=(0.9, 0.99)), loss_func=<fastai.layers.FlattenedLoss object at 0x7faec1eb7f28>, metrics=[<function accuracy at 0x7faec2f16378>], true_wd=True, bn_wd=True, wd=0.01, train_bn=True, path=PosixPath('.'), model_dir='models', callback_fns=[<class 'fastai.basic_train.Recorder'>], callbacks=[RNNTrainer(learn=LanguageLearner(data=TextLMDataBunch;\n",
       "\n",
       "Train: LabelList\n",
       "y: LMLabel (32677 items)\n",
       "[Category 0, Category 0, Category 0, Category 0, Category 0]...\n",
       "Path: .\n",
       "x: LMTextList (32677 items)\n",
       "[Text xxbos xxmaj from xxmaj donald xxmaj trump : xxmaj wishing everyone a wonderful holiday & a happy , healthy , prosperous xxmaj new xxmaj year . xxmaj let ’s think like champions in 2010 !, Text xxbos xxmaj trump xxmaj international xxmaj tower in xxmaj chicago ranked 6th tallest building in world by xxmaj council on xxmaj tall xxmaj buildings & xxmaj urban xxmaj xxunk http : / / bit.ly / xxunk, Text xxbos xxmaj wishing you and yours a very xxmaj happy and xxmaj xxunk xxmaj thanksgiving !, Text xxbos xxmaj donald xxmaj trump xxmaj partners with xxup xxunk on xxmaj new xxmaj reality xxmaj series xxmaj entitled , xxmaj omarosa 's xxmaj ultimate xxmaj merger : http : / / tinyurl.com / xxunk, Text xxbos xxunk xxmaj donald xxmaj trump : \" xxmaj ivanka and xxmaj jared ’s wedding was spectacular , and they make a beautiful couple . i ’m a very proud father . \"]...\n",
       "Path: .;\n",
       "\n",
       "Valid: LabelList\n",
       "y: LMLabel (3630 items)\n",
       "[Category 0, Category 0, Category 0, Category 0, Category 0]...\n",
       "Path: .\n",
       "x: LMTextList (3630 items)\n",
       "[Text xxbos xxmaj obama ’s policies have led to food stamp rolls growing xxup xxunk faster than job production xxunk xxmaj we ca n't afford 4 more years ., Text xxbos \" @cahlrstorrie : @realdonaldtrump @mileswynn3 @jennifer75ar a billionaire president . xxmaj now that 's something i 'd like to see ! # trump2016 \", Text xxbos “ xxmaj circumstances are beyond human control , but our conduct is in our own power . ” -- xxmaj benjamin xxmaj xxunk, Text xxbos \" xxunk : @realdonaldtrump @kmcs1957 xxmaj do you have someone you would trust to run your businesses while you were president ? xxmaj my kids !, Text xxbos \" xxmaj to become a champion , fight one more round . \" -- xxmaj james xxup j. xxmaj xxunk , long ago xxmaj xxunk xxmaj champion]...\n",
       "Path: .;\n",
       "\n",
       "Test: None, model=SequentialRNN(\n",
       "  (0): RNNCore(\n",
       "    (encoder): Embedding(10344, 400, padding_idx=1)\n",
       "    (encoder_dp): EmbeddingDropout(\n",
       "      (emb): Embedding(10344, 400, padding_idx=1)\n",
       "    )\n",
       "    (rnns): ModuleList(\n",
       "      (0): WeightDropout(\n",
       "        (module): LSTM(400, 1150)\n",
       "      )\n",
       "      (1): WeightDropout(\n",
       "        (module): LSTM(1150, 1150)\n",
       "      )\n",
       "      (2): WeightDropout(\n",
       "        (module): LSTM(1150, 400)\n",
       "      )\n",
       "    )\n",
       "    (input_dp): RNNDropout()\n",
       "    (hidden_dps): ModuleList(\n",
       "      (0): RNNDropout()\n",
       "      (1): RNNDropout()\n",
       "      (2): RNNDropout()\n",
       "    )\n",
       "  )\n",
       "  (1): LinearDecoder(\n",
       "    (decoder): Linear(in_features=400, out_features=10344, bias=True)\n",
       "    (output_dp): RNNDropout()\n",
       "  )\n",
       "), opt_func=functools.partial(<class 'torch.optim.adam.Adam'>, betas=(0.9, 0.99)), loss_func=<fastai.layers.FlattenedLoss object at 0x7faec1eb7f28>, metrics=[<function accuracy at 0x7faec2f16378>], true_wd=True, bn_wd=True, wd=0.01, train_bn=True, path=PosixPath('.'), model_dir='models', callback_fns=[<class 'fastai.basic_train.Recorder'>], callbacks=[...], layer_groups=[Sequential(\n",
       "  (0): WeightDropout(\n",
       "    (module): LSTM(400, 1150)\n",
       "  )\n",
       "  (1): RNNDropout()\n",
       "), Sequential(\n",
       "  (0): WeightDropout(\n",
       "    (module): LSTM(1150, 1150)\n",
       "  )\n",
       "  (1): RNNDropout()\n",
       "), Sequential(\n",
       "  (0): WeightDropout(\n",
       "    (module): LSTM(1150, 400)\n",
       "  )\n",
       "  (1): RNNDropout()\n",
       "), Sequential(\n",
       "  (0): Embedding(10344, 400, padding_idx=1)\n",
       "  (1): EmbeddingDropout(\n",
       "    (emb): Embedding(10344, 400, padding_idx=1)\n",
       "  )\n",
       "  (2): LinearDecoder(\n",
       "    (decoder): Linear(in_features=400, out_features=10344, bias=True)\n",
       "    (output_dp): RNNDropout()\n",
       "  )\n",
       ")]), bptt=70, alpha=2.0, beta=1.0, adjust=False)], layer_groups=[Sequential(\n",
       "  (0): WeightDropout(\n",
       "    (module): LSTM(400, 1150)\n",
       "  )\n",
       "  (1): RNNDropout()\n",
       "), Sequential(\n",
       "  (0): WeightDropout(\n",
       "    (module): LSTM(1150, 1150)\n",
       "  )\n",
       "  (1): RNNDropout()\n",
       "), Sequential(\n",
       "  (0): WeightDropout(\n",
       "    (module): LSTM(1150, 400)\n",
       "  )\n",
       "  (1): RNNDropout()\n",
       "), Sequential(\n",
       "  (0): Embedding(10344, 400, padding_idx=1)\n",
       "  (1): EmbeddingDropout(\n",
       "    (emb): Embedding(10344, 400, padding_idx=1)\n",
       "  )\n",
       "  (2): LinearDecoder(\n",
       "    (decoder): Linear(in_features=400, out_features=10344, bias=True)\n",
       "    (output_dp): RNNDropout()\n",
       "  )\n",
       ")])"
      ]
     },
     "execution_count": 22,
     "metadata": {},
     "output_type": "execute_result"
    }
   ],
   "source": [
    "learn.load('trump_all')"
   ]
  },
  {
   "cell_type": "markdown",
   "metadata": {},
   "source": [
    "# Making some functions to deal with text"
   ]
  },
  {
   "cell_type": "code",
   "execution_count": 9,
   "metadata": {},
   "outputs": [],
   "source": [
    "def rawPredict(starter='xxbos', length=100):\n",
    "    \"\"\"\n",
    "    starter is a string that beings the tweet\n",
    "    length is the number of words\n",
    "    \"\"\"\n",
    "    return \"\".join(learn.predict(starter, length, temperature=1.1))"
   ]
  },
  {
   "cell_type": "code",
   "execution_count": 122,
   "metadata": {},
   "outputs": [
    {
     "data": {
      "text/plain": [
       "'xxbos xxmaj sorry 100 % of their thugs just killed the xxup u.s. xxmaj not hillary , nice ! xxmaj often not a nypd ! xxbos i am a certain developer but now again that ’s paid for by most believable that i feel both made money ( and others ) . xxup @cnn 97 % higher people showed that their crowd was through the roof ! xxbos xxmaj first woman speaker 2014 election . xxmaj our immigration officers must now be obsolete . xxmaj change talked about seniors / law and order . xxmaj let ’s make xxmaj univision great'"
      ]
     },
     "execution_count": 122,
     "metadata": {},
     "output_type": "execute_result"
    }
   ],
   "source": [
    "#mystring = rawPredict()\n",
    "mystring"
   ]
  },
  {
   "cell_type": "code",
   "execution_count": 52,
   "metadata": {},
   "outputs": [],
   "source": [
    "def cleanText(text, for_twitter=False):\n",
    "    words = text.split()\n",
    "    n = len(words)-1\n",
    "    for i, word in enumerate(words):\n",
    "        if word == 'xxbos':\n",
    "            words[i] = ''\n",
    "        elif word == 'xxmaj':\n",
    "            if i < n:\n",
    "                words[i+1] = words[i+1][0].upper() + words[i+1][1:]\n",
    "            words[i] = ''\n",
    "        elif word == 'xxup':\n",
    "            if i < n:\n",
    "                words[i+1] = words[i+1].upper()\n",
    "            words[i] = ''\n",
    "        elif word == 'xxunk' or word == '(' or word == ')' or word == '\"':\n",
    "            words[i] = ''\n",
    "        elif word == 'xxrep':\n",
    "            if i < n-1:\n",
    "                if i == 0:\n",
    "                    words[i] = words[i+2]*int(words[i+1])\n",
    "                else:\n",
    "                    words[i-1] += words[i+2]*int(words[i+1])\n",
    "                    words[i] = ''\n",
    "                words[i+1] = ''\n",
    "                words[i+2] = ''               \n",
    "            else:\n",
    "                words[i] = ''\n",
    "                if i < n:\n",
    "                    words[i+1] = ''\n",
    "        elif word == '.' or word == '!' or word == '?' or word == ';' or word == ',' or word == ':' or word == '%':\n",
    "            if i > 0:\n",
    "                j = i - 1\n",
    "                while (j >= 0) & (words[j] == ''):\n",
    "                    j -= 1\n",
    "                words[j] += words[i]\n",
    "                words[i] = ''\n",
    "        elif word == '#':\n",
    "            if i < n:\n",
    "                words[i] += words[i+1]\n",
    "                words[i+1] = ''\n",
    "        elif word == \"n't\":\n",
    "            if i > 1:\n",
    "                words[i-1] += words[i]\n",
    "                words[i] = ''\n",
    "        elif len(word) > 1:\n",
    "            if word[0] == \"'\":\n",
    "                if i > 0:\n",
    "                    words[i-1] += words[i]\n",
    "                    words[i] = ''\n",
    "        elif len(word) > 1:\n",
    "             if (word[0] == '@') & (for_twitter==True):\n",
    "                words[i] = '(@)' + word[1:]\n",
    "    res = ' '.join(words).strip()\n",
    "    res = re.sub(r\"\\s+\", \" \", res)\n",
    "    return res\n",
    "        "
   ]
  },
  {
   "cell_type": "code",
   "execution_count": 57,
   "metadata": {},
   "outputs": [
    {
     "data": {
      "text/plain": [
       "'$$$$'"
      ]
     },
     "execution_count": 57,
     "metadata": {},
     "output_type": "execute_result"
    }
   ],
   "source": [
    "cleanText(\"xxrep 4 $\")"
   ]
  },
  {
   "cell_type": "code",
   "execution_count": 40,
   "metadata": {},
   "outputs": [
    {
     "name": "stdout",
     "output_type": "stream",
     "text": [
      "0 xxrep\n",
      "1 5\n",
      "2 !\n"
     ]
    }
   ],
   "source": [
    "for i, word in enumerate(\"xxrep 5 !\".split()):\n",
    "    print(i, word)"
   ]
  },
  {
   "cell_type": "code",
   "execution_count": 11,
   "metadata": {},
   "outputs": [],
   "source": [
    "def trimText(text, n=0, for_twitter=False):\n",
    "    pieces = re.split(r\"[\\.\\!\\?]\", text)\n",
    "    punc = re.findall(r\"[\\.\\!\\?]\", text)\n",
    "    weave = [pieces[i]+punc[i] for i in range(len(pieces)-(n+1))]\n",
    "    res = \"\".join(weave)\n",
    "    last = res.split()[-1].lower()\n",
    "    if last == 'mr.' or last == 'mrs.':\n",
    "        res = trimText(text, n+1)\n",
    "    if (for_twitter==True) & (len(res)>280):\n",
    "        res = trimText(text, n+1, for_twitter=True)\n",
    "    return res"
   ]
  },
  {
   "cell_type": "code",
   "execution_count": 144,
   "metadata": {},
   "outputs": [
    {
     "data": {
      "text/plain": [
       "'Sorry 100% of their thugs just killed the U.S. Not hillary, nice! Often not a nypd! i am a certain developer but now again that’s paid for by most believable that i feel both made money and others. 97% higher people showed that their crowd was through the roof! First woman speaker 2014 election. Our immigration officers must now be obsolete. Change talked about seniors / law and order.'"
      ]
     },
     "execution_count": 144,
     "metadata": {},
     "output_type": "execute_result"
    }
   ],
   "source": [
    "trimText(mystring2, 0, for_twitter=False)"
   ]
  },
  {
   "cell_type": "code",
   "execution_count": 162,
   "metadata": {},
   "outputs": [],
   "source": [
    "def generate_test_tweet():\n",
    "    tweet = rawPredict()\n",
    "    tweet = cleanText(tweet, for_twitter=True)\n",
    "    tweet = trimText(tweet, n=0, for_twitter=True)\n",
    "    print(tweet)"
   ]
  },
  {
   "cell_type": "code",
   "execution_count": 163,
   "metadata": {},
   "outputs": [
    {
     "name": "stdout",
     "output_type": "stream",
     "text": [
      "(@)howardkurtz: (@)GOP Trump faith in his (@)winpropp compared to his career, never saw it. #xxup cpac https: / / t.co / t If i double Stuart Stevens wouldn't win - she will do a terrible job broadcast RT (@)foxbusiness: .\n"
     ]
    }
   ],
   "source": [
    "generate_test_tweet()"
   ]
  },
  {
   "cell_type": "code",
   "execution_count": 20,
   "metadata": {},
   "outputs": [],
   "source": [
    "def generate_tweet(starter='xxbos', publish=False, printing=False):\n",
    "    tweet = rawPredict()\n",
    "    tweet = cleanText(tweet, for_twitter=True)\n",
    "    tweet = trimText(tweet, n=0, for_twitter=True)\n",
    "    if printing:\n",
    "        print(tweet)\n",
    "    if publish:\n",
    "        api.update_status(status=tweet)"
   ]
  },
  {
   "cell_type": "code",
   "execution_count": 21,
   "metadata": {},
   "outputs": [
    {
     "name": "stdout",
     "output_type": "stream",
     "text": [
      "(@)david360nc: We hate the American #@realdonaldtrump who knows if we can change America so we can call Hillary hands down (@)vincemcmahon (@)joycegoodman64 (@)kieranlalor: (@)realdonaldtrump if you pockets your 1st ahead of education, you will making millions as strong.\n"
     ]
    }
   ],
   "source": [
    "generate_tweet(publish=True, printing=True)"
   ]
  },
  {
   "cell_type": "code",
   "execution_count": 14,
   "metadata": {},
   "outputs": [],
   "source": [
    "def generate_text(starter='xxbos', length=100):\n",
    "    mytext = rawPredict(starter=starter, length=length)\n",
    "    mytext = cleanText(mytext, for_twitter=False)\n",
    "    mytext = trimText(mytext)\n",
    "    return mytext"
   ]
  },
  {
   "cell_type": "code",
   "execution_count": 15,
   "metadata": {},
   "outputs": [
    {
     "data": {
      "text/plain": [
       "'Thank you. a great afternoon, just nominated, departing for the VOTE. Heading to now and mention your wise letter. Just announced, @bobbyjindal’s attack and so irrelevant: he gets the tax all pundits. Awesome news, NOT a VOICE! History has been horrible in still the fight against making the iphone screen grave — they know it and should be dealt -- only one owned dopes who ever deduct, fire and fraud!'"
      ]
     },
     "execution_count": 15,
     "metadata": {},
     "output_type": "execute_result"
    }
   ],
   "source": [
    "generate_text()"
   ]
  },
  {
   "cell_type": "markdown",
   "metadata": {},
   "source": [
    "# Set things up for twitter and tweeting"
   ]
  },
  {
   "cell_type": "code",
   "execution_count": 16,
   "metadata": {},
   "outputs": [],
   "source": [
    "exec(open(\"config\").read())"
   ]
  },
  {
   "cell_type": "code",
   "execution_count": 17,
   "metadata": {},
   "outputs": [],
   "source": [
    "auth = tweepy.OAuthHandler(CONSUMER_KEY, CONSUMER_SECRET)\n",
    "auth.set_access_token(ACCESS_TOKEN, ACCESS_TOKEN_SECRET)\n",
    "api = tweepy.API(auth)"
   ]
  },
  {
   "cell_type": "code",
   "execution_count": 18,
   "metadata": {},
   "outputs": [
    {
     "name": "stdout",
     "output_type": "stream",
     "text": [
      "Deep Donald\n"
     ]
    }
   ],
   "source": [
    "print(api.me().name)"
   ]
  },
  {
   "cell_type": "code",
   "execution_count": 133,
   "metadata": {},
   "outputs": [
    {
     "data": {
      "text/plain": [
       "Status(_api=<tweepy.api.API object at 0x7f52b5868eb8>, _json={'created_at': 'Thu Jan 17 00:44:47 +0000 2019', 'id': 1085699421055209473, 'id_str': '1085699421055209473', 'text': 'Sorry 100% of their thugs just killed the U.S. Not hillary, nice! Often not a nypd! Our immigration officers must n… https://t.co/aOIEoClESD', 'truncated': True, 'entities': {'hashtags': [], 'symbols': [], 'user_mentions': [], 'urls': [{'url': 'https://t.co/aOIEoClESD', 'expanded_url': 'https://twitter.com/i/web/status/1085699421055209473', 'display_url': 'twitter.com/i/web/status/1…', 'indices': [117, 140]}]}, 'source': '<a href=\"https://github.com/tank671\" rel=\"nofollow\">DeepDonald</a>', 'in_reply_to_status_id': None, 'in_reply_to_status_id_str': None, 'in_reply_to_user_id': None, 'in_reply_to_user_id_str': None, 'in_reply_to_screen_name': None, 'user': {'id': 1083465969945726976, 'id_str': '1083465969945726976', 'name': 'Deep Donald', 'screen_name': 'RNN_DonaldTrump', 'location': '', 'description': \"I'm an AI trained on Donald Trump's tweets.\", 'url': None, 'entities': {'description': {'urls': []}}, 'protected': False, 'followers_count': 0, 'friends_count': 0, 'listed_count': 0, 'created_at': 'Thu Jan 10 20:49:51 +0000 2019', 'favourites_count': 0, 'utc_offset': None, 'time_zone': None, 'geo_enabled': False, 'verified': False, 'statuses_count': 1, 'lang': 'en', 'contributors_enabled': False, 'is_translator': False, 'is_translation_enabled': False, 'profile_background_color': 'F5F8FA', 'profile_background_image_url': None, 'profile_background_image_url_https': None, 'profile_background_tile': False, 'profile_image_url': 'http://abs.twimg.com/sticky/default_profile_images/default_profile_normal.png', 'profile_image_url_https': 'https://abs.twimg.com/sticky/default_profile_images/default_profile_normal.png', 'profile_link_color': '1DA1F2', 'profile_sidebar_border_color': 'C0DEED', 'profile_sidebar_fill_color': 'DDEEF6', 'profile_text_color': '333333', 'profile_use_background_image': True, 'has_extended_profile': False, 'default_profile': True, 'default_profile_image': True, 'following': False, 'follow_request_sent': False, 'notifications': False, 'translator_type': 'none'}, 'geo': None, 'coordinates': None, 'place': None, 'contributors': None, 'is_quote_status': False, 'retweet_count': 0, 'favorite_count': 0, 'favorited': False, 'retweeted': False, 'lang': 'en'}, created_at=datetime.datetime(2019, 1, 17, 0, 44, 47), id=1085699421055209473, id_str='1085699421055209473', text='Sorry 100% of their thugs just killed the U.S. Not hillary, nice! Often not a nypd! Our immigration officers must n… https://t.co/aOIEoClESD', truncated=True, entities={'hashtags': [], 'symbols': [], 'user_mentions': [], 'urls': [{'url': 'https://t.co/aOIEoClESD', 'expanded_url': 'https://twitter.com/i/web/status/1085699421055209473', 'display_url': 'twitter.com/i/web/status/1…', 'indices': [117, 140]}]}, source='DeepDonald', source_url='https://github.com/tank671', in_reply_to_status_id=None, in_reply_to_status_id_str=None, in_reply_to_user_id=None, in_reply_to_user_id_str=None, in_reply_to_screen_name=None, author=User(_api=<tweepy.api.API object at 0x7f52b5868eb8>, _json={'id': 1083465969945726976, 'id_str': '1083465969945726976', 'name': 'Deep Donald', 'screen_name': 'RNN_DonaldTrump', 'location': '', 'description': \"I'm an AI trained on Donald Trump's tweets.\", 'url': None, 'entities': {'description': {'urls': []}}, 'protected': False, 'followers_count': 0, 'friends_count': 0, 'listed_count': 0, 'created_at': 'Thu Jan 10 20:49:51 +0000 2019', 'favourites_count': 0, 'utc_offset': None, 'time_zone': None, 'geo_enabled': False, 'verified': False, 'statuses_count': 1, 'lang': 'en', 'contributors_enabled': False, 'is_translator': False, 'is_translation_enabled': False, 'profile_background_color': 'F5F8FA', 'profile_background_image_url': None, 'profile_background_image_url_https': None, 'profile_background_tile': False, 'profile_image_url': 'http://abs.twimg.com/sticky/default_profile_images/default_profile_normal.png', 'profile_image_url_https': 'https://abs.twimg.com/sticky/default_profile_images/default_profile_normal.png', 'profile_link_color': '1DA1F2', 'profile_sidebar_border_color': 'C0DEED', 'profile_sidebar_fill_color': 'DDEEF6', 'profile_text_color': '333333', 'profile_use_background_image': True, 'has_extended_profile': False, 'default_profile': True, 'default_profile_image': True, 'following': False, 'follow_request_sent': False, 'notifications': False, 'translator_type': 'none'}, id=1083465969945726976, id_str='1083465969945726976', name='Deep Donald', screen_name='RNN_DonaldTrump', location='', description=\"I'm an AI trained on Donald Trump's tweets.\", url=None, entities={'description': {'urls': []}}, protected=False, followers_count=0, friends_count=0, listed_count=0, created_at=datetime.datetime(2019, 1, 10, 20, 49, 51), favourites_count=0, utc_offset=None, time_zone=None, geo_enabled=False, verified=False, statuses_count=1, lang='en', contributors_enabled=False, is_translator=False, is_translation_enabled=False, profile_background_color='F5F8FA', profile_background_image_url=None, profile_background_image_url_https=None, profile_background_tile=False, profile_image_url='http://abs.twimg.com/sticky/default_profile_images/default_profile_normal.png', profile_image_url_https='https://abs.twimg.com/sticky/default_profile_images/default_profile_normal.png', profile_link_color='1DA1F2', profile_sidebar_border_color='C0DEED', profile_sidebar_fill_color='DDEEF6', profile_text_color='333333', profile_use_background_image=True, has_extended_profile=False, default_profile=True, default_profile_image=True, following=False, follow_request_sent=False, notifications=False, translator_type='none'), user=User(_api=<tweepy.api.API object at 0x7f52b5868eb8>, _json={'id': 1083465969945726976, 'id_str': '1083465969945726976', 'name': 'Deep Donald', 'screen_name': 'RNN_DonaldTrump', 'location': '', 'description': \"I'm an AI trained on Donald Trump's tweets.\", 'url': None, 'entities': {'description': {'urls': []}}, 'protected': False, 'followers_count': 0, 'friends_count': 0, 'listed_count': 0, 'created_at': 'Thu Jan 10 20:49:51 +0000 2019', 'favourites_count': 0, 'utc_offset': None, 'time_zone': None, 'geo_enabled': False, 'verified': False, 'statuses_count': 1, 'lang': 'en', 'contributors_enabled': False, 'is_translator': False, 'is_translation_enabled': False, 'profile_background_color': 'F5F8FA', 'profile_background_image_url': None, 'profile_background_image_url_https': None, 'profile_background_tile': False, 'profile_image_url': 'http://abs.twimg.com/sticky/default_profile_images/default_profile_normal.png', 'profile_image_url_https': 'https://abs.twimg.com/sticky/default_profile_images/default_profile_normal.png', 'profile_link_color': '1DA1F2', 'profile_sidebar_border_color': 'C0DEED', 'profile_sidebar_fill_color': 'DDEEF6', 'profile_text_color': '333333', 'profile_use_background_image': True, 'has_extended_profile': False, 'default_profile': True, 'default_profile_image': True, 'following': False, 'follow_request_sent': False, 'notifications': False, 'translator_type': 'none'}, id=1083465969945726976, id_str='1083465969945726976', name='Deep Donald', screen_name='RNN_DonaldTrump', location='', description=\"I'm an AI trained on Donald Trump's tweets.\", url=None, entities={'description': {'urls': []}}, protected=False, followers_count=0, friends_count=0, listed_count=0, created_at=datetime.datetime(2019, 1, 10, 20, 49, 51), favourites_count=0, utc_offset=None, time_zone=None, geo_enabled=False, verified=False, statuses_count=1, lang='en', contributors_enabled=False, is_translator=False, is_translation_enabled=False, profile_background_color='F5F8FA', profile_background_image_url=None, profile_background_image_url_https=None, profile_background_tile=False, profile_image_url='http://abs.twimg.com/sticky/default_profile_images/default_profile_normal.png', profile_image_url_https='https://abs.twimg.com/sticky/default_profile_images/default_profile_normal.png', profile_link_color='1DA1F2', profile_sidebar_border_color='C0DEED', profile_sidebar_fill_color='DDEEF6', profile_text_color='333333', profile_use_background_image=True, has_extended_profile=False, default_profile=True, default_profile_image=True, following=False, follow_request_sent=False, notifications=False, translator_type='none'), geo=None, coordinates=None, place=None, contributors=None, is_quote_status=False, retweet_count=0, favorite_count=0, favorited=False, retweeted=False, lang='en')"
      ]
     },
     "execution_count": 133,
     "metadata": {},
     "output_type": "execute_result"
    }
   ],
   "source": [
    "api.update_status(status=mystring3)"
   ]
  },
  {
   "cell_type": "code",
   "execution_count": null,
   "metadata": {},
   "outputs": [],
   "source": []
  }
 ],
 "metadata": {
  "kernelspec": {
   "display_name": "Python 3",
   "language": "python",
   "name": "python3"
  },
  "language_info": {
   "codemirror_mode": {
    "name": "ipython",
    "version": 3
   },
   "file_extension": ".py",
   "mimetype": "text/x-python",
   "name": "python",
   "nbconvert_exporter": "python",
   "pygments_lexer": "ipython3",
   "version": "3.7.1"
  }
 },
 "nbformat": 4,
 "nbformat_minor": 2
}
